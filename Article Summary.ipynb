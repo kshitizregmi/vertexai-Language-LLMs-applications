{
 "cells": [
  {
   "cell_type": "code",
   "execution_count": 1,
   "id": "b0b64fad-39ce-4621-9b38-4acc656049c1",
   "metadata": {},
   "outputs": [],
   "source": [
    "import vertexai\n",
    "from vertexai.language_models import TextGenerationModel\n",
    "from env import load_env\n",
    "from typing import Tuple\n",
    "\n",
    "def load_project_and_location() -> Tuple[str, str]:\n",
    "    \"\"\"\n",
    "    Loads the project and location from the environment.\n",
    "    \n",
    "    Returns:\n",
    "        Tuple[str, str]: A tuple containing the project and location strings.\n",
    "    \"\"\"\n",
    "    project, location = load_env()\n",
    "    return project, location\n",
    "\n",
    "def generate(prompt: str, parameters: dict) -> str:\n",
    "    \"\"\"\n",
    "    Generates anything for a the given text using prompt and a language model.\n",
    "    \n",
    "    Args:\n",
    "        text (str): The input text for which a summary needs to be generated.\n",
    "        prompt (str): The prompt to be used for text generation.\n",
    "        parameters (dict): A dictionary of generation parameters.\n",
    "\n",
    "    Returns:\n",
    "        str: The generated text summary.\n",
    "    \"\"\"\n",
    "    model = TextGenerationModel.from_pretrained(\"text-bison@001\")\n",
    "    response = model.predict(prompt, **parameters)\n",
    "    return response.text"
   ]
  },
  {
   "cell_type": "code",
   "execution_count": 2,
   "id": "b5247e8b-077e-4a40-a7e3-95c3045e9ccf",
   "metadata": {},
   "outputs": [
    {
     "name": "stdout",
     "output_type": "stream",
     "text": [
      "The Summary is:\n",
      " The development of advanced artificial intelligence has the potential to be a great boon to humanity, but it also poses a significant risk of existential catastrophe. In order to mitigate this risk, we need to establish an international institution to oversee the development of AI and ensure that it is used for the public good.\n"
     ]
    }
   ],
   "source": [
    "project, location = load_project_and_location()\n",
    "\n",
    "parameters = {\n",
    "\"max_output_tokens\": 768,\n",
    "\"temperature\": 0.5,\n",
    "\"top_p\": 0.8,\n",
    "\"top_k\": 40\n",
    "}\n",
    "\n",
    "text = \"\"\"On 16th July 1945 the world changed forever. The Manhattan Project’s ‘Trinity’ test, directed by Robert Oppenheimer, endowed humanity for the first time with the ability to wipe itself out: an atomic bomb had been successfully detonated 210 miles south of Los Alamos, New Mexico.\n",
    "\n",
    "On 6th August 1945 the bomb was dropped on Hiroshima and three days later, Nagasaki— unleashing unprecedented destructive power. The end of World War II brought a fragile peace, overshadowed by this new, existential threat.\n",
    "While nuclear technology promised an era of abundant energy, it also launched us into a future where nuclear war could lead to the end of our civilization. The ‘blast radius’ of our technology had increased to a global scale. It was becoming increasingly clear that governing nuclear technology to avoid a global catastrophe required international cooperation. Time was of the essence to set up robust institutions to deal with this.\n",
    "\n",
    "In 1952, 11 countries set up CERN and tasked it with “collaboration in scientific [nuclear] research of a purely fundamental nature”—making clear that CERN’s research would be used for the public good. The International Atomic Energy Agency (IAEA) was also set up in 1957 to monitor global stockpiles of uranium and limit proliferation. Among others, these institutions helped us to survive over the last 70 years.\n",
    "\n",
    "We believe that humanity is facing once more an increase in the ‘blast radius’ of technology: the development of advanced artificial intelligence. A powerful technology that could annihilate humanity if left unrestrained, but, if harnessed safely, could change the world for the better.\n",
    "\n",
    "Experts have been sounding the alarm on artificial general intelligence (AGI) development. Distinguished AI scientists and leaders of the major AI companies, including Sam Altman of OpenAI and Demis Hassabis of Google DeepMind, signed a statement from the Center for AI Safety that reads: “Mitigating the risk of extinction from AI should be a global priority alongside other societal-scale risks such as pandemics and nuclear war.” A few months earlier, another letter calling for a pause in giant AI experiments was signed over 27,000 times, including by Turing Prize winners Yoshua Bengio and Geoffrey Hinton.\n",
    "\n",
    "This is because a small group of AI companies (OpenAI, Google Deepmind, Anthropic) are aiming to create AGI: not just chatbots like ChatGPT, but AIs that are “autonomous and outperform humans at most economic activities”. Ian Hogarth, investor and now Chair of the UK’s Foundation Model Taskforce, calls these ‘godlike AIs’ and implored governments to slow down the race to build them. Even the developers of the technology themselves expect great danger from it. Altman, CEO of the company behind ChatGPT, said that the “Development of superhuman machine intelligence (SMI) is probably the greatest threat to the continued existence of humanity.”\n",
    "\n",
    "World leaders are calling for the establishment of an international institution to deal with the threat of AGI: a ‘CERN’ or ‘IAEA for AI’. In June, President Biden and U.K. Prime Minister Sunak discussed such an organization. The U.N. Secretary-General, Antonio Guterres thinks we need one, too. Given this growing consensus for international cooperation to respond to the risks from AI, we need to lay out concretely how such an institution might be built.\n",
    "\"\"\"\n",
    "\n",
    "prompt = f\"\"\"Write engaging summary for the following text in brief and informative manner:\n",
    "{text}\n",
    "\"\"\"\n",
    "\n",
    "generated_summary = generate(prompt, parameters)\n",
    "\n",
    "print(f\"The Summary is:\\n {generated_summary}\")"
   ]
  },
  {
   "cell_type": "code",
   "execution_count": null,
   "id": "9de653e6-60f3-4a09-8ec4-c2214fb576fa",
   "metadata": {},
   "outputs": [],
   "source": []
  }
 ],
 "metadata": {
  "kernelspec": {
   "display_name": "Python 3 (ipykernel)",
   "language": "python",
   "name": "python3"
  },
  "language_info": {
   "codemirror_mode": {
    "name": "ipython",
    "version": 3
   },
   "file_extension": ".py",
   "mimetype": "text/x-python",
   "name": "python",
   "nbconvert_exporter": "python",
   "pygments_lexer": "ipython3",
   "version": "3.9.13"
  }
 },
 "nbformat": 4,
 "nbformat_minor": 5
}
