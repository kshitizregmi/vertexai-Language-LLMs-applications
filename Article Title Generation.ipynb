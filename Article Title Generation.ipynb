{
 "cells": [
  {
   "cell_type": "code",
   "execution_count": 1,
   "id": "dfd45e86-a5b7-43bc-9826-59e1de79ce7b",
   "metadata": {},
   "outputs": [],
   "source": [
    "import vertexai\n",
    "from vertexai.language_models import TextGenerationModel\n",
    "from env import load_env\n",
    "from typing import Tuple\n",
    "\n",
    "def load_project_and_location() -> Tuple[str, str]:\n",
    "    \"\"\"\n",
    "    Loads the project and location from the environment.\n",
    "    \n",
    "    Returns:\n",
    "        Tuple[str, str]: A tuple containing the project and location strings.\n",
    "    \"\"\"\n",
    "    project, location = load_env()\n",
    "    return project, location\n",
    "\n",
    "def generate(prompt: str, parameters: dict) -> str:\n",
    "    \"\"\"\n",
    "    Generates anything for a the given text using prompt and a language model.\n",
    "    \n",
    "    Args:\n",
    "        text (str): The input text for which a summary needs to be generated.\n",
    "        prompt (str): The prompt to be used for text generation.\n",
    "        parameters (dict): A dictionary of generation parameters.\n",
    "\n",
    "    Returns:\n",
    "        str: The generated text summary.\n",
    "    \"\"\"\n",
    "    model = TextGenerationModel.from_pretrained(\"text-bison@001\")\n",
    "    response = model.predict(prompt, **parameters)\n",
    "    return response.text"
   ]
  },
  {
   "cell_type": "code",
   "execution_count": 2,
   "id": "eed96023-de21-445e-85fc-a9b6d477eceb",
   "metadata": {},
   "outputs": [],
   "source": [
    "text = \"\"\"In May, the CEOs of three of the most prominent AI labs—OpenAI, Google DeepMind, and Anthropic—signed a statement that warned AI could be as risky to humanity as pandemics and nuclear war. To prevent disaster, many AI companies and researchers are arguing for restrictions on who can access the most powerful AI models and who can develop them in the first place. They worry that bad actors could use AI models to create large amounts of disinformation that could alter the outcomes of elections, and that in the future, more powerful AI models could help launch cyberattacks or create bioweapons.\n",
    "\n",
    "But not all AI companies agree. On Thursday, Meta released Code Llama, a family of AI models built on top of Llama 2, Meta’s flagship large language model, with extra training to make them particularly useful for coding tasks. \n",
    "\n",
    "The largest, most capable models in the Code Llama family outperform other openly available models at coding benchmarks, and nearly match GPT-4, OpenAI’s most capable large language model. Like the other AI models Meta develops, the Code Llama language models are available for download and are free for commercial and research use. In contrast, most other prominent AI developers, such as OpenAI and Anthropic, only allow businesses and developers limited, paid access to their models, which the AI labs say helps to prevent them from being misused. (It also helps to generate revenue.)\n",
    "\n",
    "For months, Meta has been plotting a different path to the other large AI companies. When Meta released its large language AI model LLaMA on Feb. 24, it initially granted access to researchers on a case-by-case basis. But just one week later, LLaMa’s weights—the complete mathematical description of the model—were leaked online.\n",
    "In June, U.S. Senators Richard Blumenthal and Josh Hawley, Chair and Ranking Member of the Senate Judiciary Subcommittee on Privacy, Technology, and the Law, wrote a letter to Mark Zuckerberg, CEO of Meta, noting that “Meta appears not to have even considered the ethical implication of its public release” and seeking information about the leak and asking whether Meta would change how it released AI models in future.\n",
    "\n",
    "A month later, Meta answered in an emphatic fashion by releasing Llama 2. This time, Meta didn’t make any attempt at all to limit access—anyone can download the model.\n",
    "\n",
    "The disagreement between Meta and the Senators is just the beginning of a debate over who gets to control access to AI, the outcome of which will have wide-reaching implications. On one side, many prominent AI companies and members of the national security community, concerned by risks posed by powerful AI systems and possibly motivated by commercial incentives, are pushing for limits on who can build and access the most powerful AI systems. On the other, is an unlikely coalition of Meta, and many progressives, libertarians, and old-school liberals, who are fighting for what they say is an open, transparent approach to AI development.\"\"\""
   ]
  },
  {
   "cell_type": "code",
   "execution_count": 3,
   "id": "0ff88997-a0e4-4db3-b149-d2f812f75bd7",
   "metadata": {},
   "outputs": [],
   "source": [
    "prompt = f\"\"\"Article: A senior California lawmaker will introduce a new artificial intelligence (AI) bill to the state’s senate on Wednesday, adding to national and global efforts to regulate the fast-accelerating technology.\n",
    "\n",
    "Although there are several attempts in Congress to draft AI legislation, the state of California—home to Silicon Valley, where most of the world’s top AI companies are based—has a role to play in setting guardrails on the industry, according to state Senator Scott Wiener, (D—San Francisco) who drafted the bill. \n",
    "\n",
    "“In an ideal world we would have a strong federal AI regulatory scheme,” Wiener said in an interview with TIME on Tuesday, adding that he supports attempts in Congress and the White House to regulate the technology. “But California has a history of acting when the federal government is moving either too slowly or not acting.”\n",
    "\n",
    "He added: “We need to get ahead of these risks, not do what we’ve done in the past around social media or other technology, where we do nothing before it’s potentially too late.”\n",
    "The title of above article can be: Exclusive: California Bill Proposes Regulating AI at State Level\n",
    "\n",
    "\n",
    "Article: At a conference in 2012, Elon Musk met Demis Hassabis, the video-game designer and artificial--intelligence researcher who had co-founded a company named DeepMind that sought to design computers that could learn how to think like humans.\n",
    "\n",
    "“Elon and I hit it off right away, and I went to visit him at his rocket factory,” Hassabis says. While sitting in the canteen overlooking the assembly lines, Musk explained that his reason for building rockets that could go to Mars was that it might be a way to preserve human consciousness in the event of a world war, asteroid strike, or civilization collapse. Hassabis told him to add another potential threat to the list: artificial intelligence. Machines could become superintelligent and surpass us mere mortals, -perhaps even decide to dispose of us.\n",
    "\n",
    "Musk paused silently for almost a minute as he processed this possibility. He decided that Hassabis might be right about the danger of AI, and promptly invested $5 million in DeepMind as a way to monitor what it was doing.\n",
    "\n",
    "A few weeks after this conversation with Hassabis, Musk described DeepMind to Google’s Larry Page. They had known each other for more than a decade, and Musk often stayed at Page’s Palo Alto, Calif., house. The potential dangers of artificial intelligence became a topic that Musk would raise, almost obsessively, during their late-night conversations. Page was dismissive.\n",
    "The title of above article can be: Inside Elon Musk\\'s Struggle for the Future of AI\n",
    "\n",
    "Article: We are about to see the greatest redistribution of power in history.\n",
    "\n",
    "Over millennia, humanity has been shaped by successive waves of technology. The discovery of fire, the invention of the wheel, the harnessing of electricity—all were transformational moments for civilization. All were waves of technology that started small, with a few precarious experiments, but eventually they broke across the world. These waves followed a similar trajectory: breakthrough technologies were invented, delivered huge value, and so they proliferated, became more effective, cheaper, more widespread and were absorbed into the normal, ever-evolving fabric of human life. \n",
    "\n",
    "We are now facing a new wave of technology, centered around AI but including synthetic biology, quantum computing, and abundant new sources of energy. In many respects it will repeat this pattern. Yet it will also depart from it in crucial ways only now becoming clear. Amidst all the hype, the hope, the fear, I think the fundamentals are getting lost; the unique characteristics of this wave are getting missed in the noise. Understanding them, seeing what, exactly, is changing, is critical to understanding the future.\n",
    "The title of above article can be: How the AI Revolution Will Reshape the World\n",
    "\n",
    "Article: {text}\n",
    "The title of above article can be:\n",
    "\"\"\""
   ]
  },
  {
   "cell_type": "code",
   "execution_count": 4,
   "id": "45dcd924-d7b2-4db6-882c-a4b5a5d41131",
   "metadata": {},
   "outputs": [],
   "source": [
    "parameters = {\n",
    "    \"max_output_tokens\": 32,\n",
    "    \"temperature\": 0.2,\n",
    "    \"top_p\": 0.95,\n",
    "    \"top_k\": 40\n",
    "}"
   ]
  },
  {
   "cell_type": "code",
   "execution_count": 5,
   "id": "59ff849f-54b0-460d-830d-b48399a01dfe",
   "metadata": {},
   "outputs": [
    {
     "name": "stdout",
     "output_type": "stream",
     "text": [
      "The Generated Title is:\n",
      "Meta Is Releasing Its Most Powerful AI Model for Free, and Some People Are Worried\n"
     ]
    }
   ],
   "source": [
    "generated_summary = generate(prompt, parameters)\n",
    "print(f\"The Generated Title is:\\n{generated_summary}\")"
   ]
  },
  {
   "cell_type": "code",
   "execution_count": null,
   "id": "f4ef8c73-ff01-4f21-aa08-c82b9404f276",
   "metadata": {},
   "outputs": [],
   "source": []
  }
 ],
 "metadata": {
  "kernelspec": {
   "display_name": "Python 3 (ipykernel)",
   "language": "python",
   "name": "python3"
  },
  "language_info": {
   "codemirror_mode": {
    "name": "ipython",
    "version": 3
   },
   "file_extension": ".py",
   "mimetype": "text/x-python",
   "name": "python",
   "nbconvert_exporter": "python",
   "pygments_lexer": "ipython3",
   "version": "3.9.13"
  }
 },
 "nbformat": 4,
 "nbformat_minor": 5
}
