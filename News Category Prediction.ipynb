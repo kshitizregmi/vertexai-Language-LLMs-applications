{
 "cells": [
  {
   "cell_type": "code",
   "execution_count": 1,
   "id": "3c521487-113b-4b37-83df-bfddd63198cf",
   "metadata": {},
   "outputs": [],
   "source": [
    "import vertexai\n",
    "from vertexai.language_models import TextGenerationModel\n",
    "from env import load_env\n",
    "from typing import Tuple\n",
    "\n",
    "\n",
    "def load_project_and_location() -> Tuple[str, str]:\n",
    "    \"\"\"\n",
    "    Loads the project and location from the environment.\n",
    "    \n",
    "    Returns:\n",
    "        Tuple[str, str]: A tuple containing the project and location strings.\n",
    "    \"\"\"\n",
    "    project, location = load_env()\n",
    "    return project, location\n",
    "\n",
    "def generate(prompt: str, parameters: dict) -> str:\n",
    "    \"\"\"\n",
    "    Generates anything for a the given text using prompt and a language model.\n",
    "    \n",
    "    Args:\n",
    "        text (str): The input text for which a summary needs to be generated.\n",
    "        prompt (str): The prompt to be used for text generation.\n",
    "        parameters (dict): A dictionary of generation parameters.\n",
    "\n",
    "    Returns:\n",
    "        str: The generated text summary.\n",
    "    \"\"\"\n",
    "    model = TextGenerationModel.from_pretrained(\"text-bison@001\")\n",
    "    response = model.predict(prompt, **parameters)\n",
    "    return response.text"
   ]
  },
  {
   "cell_type": "code",
   "execution_count": 2,
   "id": "acd5476f-77fa-4548-9f40-957081045af7",
   "metadata": {},
   "outputs": [],
   "source": [
    "headline = \"Dementia Patients Are Often Treated With Anti-Psychotics. That Can Be Dangerous\"\n",
    "prompt = f\"\"\"\n",
    "Classify the News Category based on News Headline\n",
    "\n",
    "Options:\n",
    "- Finance/Economy\n",
    "- Environment/Climate\n",
    "- Technology\n",
    "- Politics\n",
    "- Community/Local\n",
    "- Sports\n",
    "- Entertainment\n",
    "- Space/Science\n",
    "- Health\n",
    "\n",
    "News Headline: \"Stock Market Hits All-Time High Amid Economic Recovery\"\n",
    "    Category: Finance/Economy\n",
    "\n",
    "News Headline: \"New COVID-19 Variant Detected in Multiple Countries\"\n",
    "    Category: Health/Science\n",
    "\n",
    "News Headline: \"World Leaders Gather for Climate Change Summit\"\n",
    "    Category: Environment/Climate\n",
    "\n",
    "News Headline: \"Tech Giant Launches Latest Smartphone with Innovative Features\"\n",
    "    Category: Technology\n",
    "\n",
    "News Headline: \"Political Protests Erupt in Capital City\"\n",
    "    Category: Politics\n",
    "\n",
    "News Headline: \"Local Community Comes Together to Clean Up Park\"\n",
    "    Category: Community/Local\n",
    "\n",
    "News Headline: \"Olympic Games Begin with Spectacular Opening Ceremony\"\n",
    "    Category: Sports\n",
    "\n",
    "News Headline: \"New Breakthrough Treatment for Rare Disease Announced\"\n",
    "    Category: Health/Science\n",
    "\n",
    "News Headline: \"Celebrity Couple Announces Engagement\"\n",
    "    Category: Entertainment\n",
    "\n",
    "News Headline: \"Space Exploration Mission Discovers Exoplanet with Potential for Life\"\n",
    "    Category: Space/Science\n",
    "\n",
    "News Headline: Why It Takes Forever to Get a Doctor's Appointment\n",
    "    Category: Health\n",
    "\n",
    "News Headline: {headline}\n",
    "    Category:\n",
    "\"\"\""
   ]
  },
  {
   "cell_type": "code",
   "execution_count": 3,
   "id": "4ed655d4-6e48-4514-8b6f-590405ee5121",
   "metadata": {},
   "outputs": [],
   "source": [
    "project, location = load_project_and_location()\n",
    "vertexai.init(project=project, location=location)\n",
    "\n",
    "parameters = {\n",
    "    \"max_output_tokens\": 256,\n",
    "    \"temperature\": 0.2,\n",
    "    \"top_p\": 0.8,\n",
    "    \"top_k\": 40\n",
    "}"
   ]
  },
  {
   "cell_type": "code",
   "execution_count": 4,
   "id": "c72da1d2-a742-4669-bec9-1621986ac987",
   "metadata": {},
   "outputs": [
    {
     "name": "stdout",
     "output_type": "stream",
     "text": [
      "Health\n"
     ]
    }
   ],
   "source": [
    "category = generate(prompt=prompt, parameters=parameters)\n",
    "print(category)"
   ]
  },
  {
   "cell_type": "code",
   "execution_count": null,
   "id": "df713c83-e7ef-449e-9bac-e4199f1ec057",
   "metadata": {},
   "outputs": [],
   "source": []
  }
 ],
 "metadata": {
  "kernelspec": {
   "display_name": "Python 3 (ipykernel)",
   "language": "python",
   "name": "python3"
  },
  "language_info": {
   "codemirror_mode": {
    "name": "ipython",
    "version": 3
   },
   "file_extension": ".py",
   "mimetype": "text/x-python",
   "name": "python",
   "nbconvert_exporter": "python",
   "pygments_lexer": "ipython3",
   "version": "3.9.13"
  }
 },
 "nbformat": 4,
 "nbformat_minor": 5
}
